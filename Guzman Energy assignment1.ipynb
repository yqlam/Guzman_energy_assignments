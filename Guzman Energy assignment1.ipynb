{
 "cells": [
  {
   "cell_type": "code",
   "execution_count": 211,
   "id": "604bfd59",
   "metadata": {},
   "outputs": [],
   "source": [
    "import holidays\n",
    "import re\n",
    "import calendar\n",
    "from calendar import monthrange\n",
    "from datetime import timedelta\n",
    "from collections import Counter\n",
    "from datetime import datetime\n",
    "\n",
    "def get_hours(ISO, peak_type, period):\n",
    "    def dst_adjust(company:str, first_dst:bool, second_dst:bool, hours:int): #pass a function to adjust dst-affected hours\n",
    "        if company != \"MISO\": #MISO doesn't have daylight savings\n",
    "            if first_dst: #first dst accounts for the dst in March, minus 1 hour \n",
    "                return hours-1\n",
    "            elif second_dst: #second dst, plus 1 hour back\n",
    "                return hours+1\n",
    "        return hours\n",
    "    eastern = ['PJMISO', 'MISO', 'ERCOT', 'SPPISO', 'NYISO']\n",
    "    western = ['WECC', 'CAISO']\n",
    "    if ISO not in eastern and ISO not in western:\n",
    "        raise Exception('invalid iso')\n",
    "    peak_lst = ['onpeak', 'offpeak', 'flat', '2x16H', '7x8']\n",
    "    if peak_type not in peak_lst:\n",
    "        raise Exception('invalid peak type')\n",
    "    start = end = ''#start date and end date for the period initialized\n",
    "    quarters = [('1-1', '3-31'), ('4-1', '6-30'), ('7-1', '9-30'), ('10-1', '12-31')] #start and end dates of each quarter\n",
    "    month_start = {'Jan':'1-1', 'Feb':'2-1','Mar':'3-1','Apr':'4-1','May':'5-1','June':'6-1', 'July':'7-1', \\\n",
    "                  'Aug':'8-1', 'Sep':'9-1', 'Oct':'10-1', 'Nov':'11-1', 'Dec':'12-1'} #start date of each month\n",
    "    month_num =  {'Jan': 1,'Feb': 2,'Mar': 3,'Apr': 4,'May': 5,'June': 6,'July': 7,'Aug': 8,'Sep': 9,'Oct': 10,\\\n",
    "                      'Nov': 11,'Dec': 12} #corresponding month number\n",
    "    NERC_holidays = {\"New Year's Day\":'', 'Memorial Day':'', 'Independence Day':'', 'Labor Day':'', \\\n",
    "                     'Thanksgiving':'', 'Christmas Day':''}\n",
    "    NERC_holidays_count = {'weekday':0, 'Sat':0} #Sundays and NERC holidays have overlapping hours, no need to count Sundays\n",
    "    try: #try splitting the period string to account for 4 types of valid input\n",
    "        split_period = re.split('(\\d+)', period)\n",
    "        year = split_period[1]\n",
    "        if period[-1] == 'A': #annual case\n",
    "            start = datetime.strptime(year+'-1-1','%Y-%m-%d').date()\n",
    "            end = datetime.strptime(year+'-12-31','%Y-%m-%d').date()\n",
    "        elif period[-2] == 'Q': #quarter case\n",
    "            start = datetime.strptime(year+'-'+quarters[int(period[-1])-1][0],'%Y-%m-%d').date()\n",
    "            end = datetime.strptime(year+'-'+quarters[int(period[-1])-1][1],'%Y-%m-%d').date()\n",
    "        elif split_period[-1] in month_num: #month case\n",
    "            start = datetime.strptime(year+'-'+month_start[split_period[-1]],'%Y-%m-%d').date()\n",
    "            end = start+timedelta(monthrange(int(year), month_num[split_period[-1]])[1]-1)\n",
    "        elif split_period[2] == split_period[4] == '-': #one-day case\n",
    "            start = datetime.strptime(period,'%Y-%m-%d').date()\n",
    "            end = start\n",
    "    except:\n",
    "        raise Exception('Invalid period entered')\n",
    "    for date, holiday in holidays.UnitedStates(years = int(year)).items():\n",
    "        if (holiday in NERC_holidays) and (start <= date <= end) and (date.strftime('%a') != 'Sun'):\n",
    "            if date.strftime('%a') != 'Sat':\n",
    "                NERC_holidays_count['weekday'] += 1 \n",
    "            else:\n",
    "                NERC_holidays_count['Sat'] += 1\n",
    "    dst1 = calendar.Calendar(6).monthdatescalendar(int(year), 3)[2][0] #this assigns the date of the second Sunday in March\n",
    "    dst2 = calendar.Calendar(6).monthdatescalendar(int(year), 11)[1][0] #the first Sunday in November\n",
    "    dst1_on = start <= dst1 <= end and not(start <= dst2 <= end)# period includes the first dst only\n",
    "    dst2_on = start <= dst2 <= end and not(start <= dst1 <= end)# period includes the second dst only\n",
    "    days_count = Counter() #count the days in a week over the year\n",
    "    for i in range((end - start).days+1):\n",
    "        days_count[(start + timedelta(i)).strftime('%a')] += 1\n",
    "    hours = 0\n",
    "    if peak_type == 'flat':\n",
    "        hours += 24*sum(days_count[day] for day in days_count)\n",
    "        hours = dst_adjust(ISO, dst1_on, dst2_on, hours)\n",
    "    elif peak_type == 'onpeak':\n",
    "        hours += 16*(days_count['Mon']+days_count['Tue']+days_count['Wed']+days_count['Thu']+days_count['Fri'])\n",
    "        hours -= 16*NERC_holidays_count['weekday'] #minus the holidays\n",
    "        if ISO in western:\n",
    "            hours += 16*days_count['Sat'] #Saturday is a weekday for Western\n",
    "            hours -= 16*NERC_holidays_count['Sat']\n",
    "    elif peak_type == 'offpeak':\n",
    "        hours += 8*(days_count['Mon']+days_count['Tue']+days_count['Wed']+days_count['Thu']+days_count['Fri'])\\\n",
    "        +24*days_count['Sun']\n",
    "        hours += 16*NERC_holidays_count['weekday']\n",
    "        if ISO in eastern:\n",
    "            hours += 24*days_count['Sat']\n",
    "        else:\n",
    "            hours += 16*NERC_holidays_count['Sat']\n",
    "            hours += 8*days_count['Sat']\n",
    "        hours = dst_adjust(ISO, dst1_on, dst2_on, hours)\n",
    "    elif peak_type == '2x16H':\n",
    "        hours += 16*(days_count['Sun']+NERC_holidays_count['weekday'])\n",
    "        if ISO in eastern:\n",
    "            hours += 16*days_count['Sat'] #Weekends include Saturday for Eastern\n",
    "        else:\n",
    "            hours += 16*NERC_holidays_count['Sat']\n",
    "    elif peak_type == '7x8':\n",
    "        hours += 8*sum(days_count[day] for day in days_count)\n",
    "        hours = dst_adjust(ISO, dst1_on, dst2_on, hours)\n",
    "    return [ISO, peak_type, start.strftime('%Y-%m-%d'), end.strftime('%Y-%m-%d'), hours]"
   ]
  },
  {
   "cell_type": "code",
   "execution_count": 224,
   "id": "5a058046",
   "metadata": {},
   "outputs": [
    {
     "data": {
      "text/plain": [
       "['ERCOT', 'onpeak', '2019-05-01', '2019-05-31', 352]"
      ]
     },
     "execution_count": 224,
     "metadata": {},
     "output_type": "execute_result"
    }
   ],
   "source": [
    "get_hours('ERCOT', 'onpeak', '2019May')"
   ]
  },
  {
   "cell_type": "code",
   "execution_count": null,
   "id": "fe1543a3",
   "metadata": {},
   "outputs": [],
   "source": []
  }
 ],
 "metadata": {
  "kernelspec": {
   "display_name": "Python 3",
   "language": "python",
   "name": "python3"
  },
  "language_info": {
   "codemirror_mode": {
    "name": "ipython",
    "version": 3
   },
   "file_extension": ".py",
   "mimetype": "text/x-python",
   "name": "python",
   "nbconvert_exporter": "python",
   "pygments_lexer": "ipython3",
   "version": "3.8.11"
  }
 },
 "nbformat": 4,
 "nbformat_minor": 5
}
